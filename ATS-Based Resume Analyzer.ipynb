{
 "cells": [
  {
   "cell_type": "code",
   "execution_count": 1,
   "id": "b6cf51f5-5a12-428f-865c-312f7ca4c4da",
   "metadata": {},
   "outputs": [],
   "source": [
    "import os\n",
    "import pdfplumber\n",
    "import pandas as pd\n",
    "from sklearn.feature_extraction.text import TfidfVectorizer\n",
    "from sklearn.metrics.pairwise import cosine_similarity"
   ]
  },
  {
   "cell_type": "code",
   "execution_count": 2,
   "id": "e5f9c600-0172-4cae-b163-7223abf5e7f8",
   "metadata": {},
   "outputs": [],
   "source": [
    "with open(\"job_description.txt\", \"r\", encoding=\"utf-8\") as file:\n",
    "    job_description = file.read()"
   ]
  },
  {
   "cell_type": "code",
   "execution_count": 3,
   "id": "911797df-fd16-40e2-892a-fd129052cb9b",
   "metadata": {},
   "outputs": [],
   "source": [
    "def extract_text_from_pdf(pdf_path):\n",
    "    text = ''\n",
    "    with pdfplumber.open(pdf_path) as pdf:\n",
    "        for page in pdf.pages:\n",
    "            page_text = page.extract_text()\n",
    "            if page_text:\n",
    "                text += page_text\n",
    "    return text"
   ]
  },
  {
   "cell_type": "code",
   "execution_count": 4,
   "id": "6f299b76-4fe1-4523-bde3-45eaea7e7085",
   "metadata": {},
   "outputs": [],
   "source": [
    "resume_folder = \"resumes\"\n",
    "resume_texts = []\n",
    "resume_names = []\n",
    "\n",
    "for filename in os.listdir(resume_folder):\n",
    "    if filename.endswith(\".pdf\"):\n",
    "        path = os.path.join(resume_folder, filename)\n",
    "        text = extract_text_from_pdf(path)\n",
    "        resume_texts.append(text)\n",
    "        resume_names.append(filename)"
   ]
  },
  {
   "cell_type": "code",
   "execution_count": 5,
   "id": "54b811ad-dc79-42f3-beb8-044afe0440e1",
   "metadata": {},
   "outputs": [],
   "source": [
    "documents = [job_description] + resume_texts\n",
    "vectorizer = TfidfVectorizer()\n",
    "tfidf_matrix = vectorizer.fit_transform(documents)"
   ]
  },
  {
   "cell_type": "code",
   "execution_count": 6,
   "id": "afef1beb-ed6b-44b3-a5b1-5592da38a4ec",
   "metadata": {},
   "outputs": [],
   "source": [
    "similarities = cosine_similarity(tfidf_matrix[0:1], tfidf_matrix[1:])[0]"
   ]
  },
  {
   "cell_type": "code",
   "execution_count": 7,
   "id": "08e4b264-74fe-4bbc-80d3-de8d6afb1019",
   "metadata": {},
   "outputs": [],
   "source": [
    "results = pd.DataFrame({\n",
    "    \"Resume Name\": resume_names,\n",
    "    \"Match %\": [round(score * 100, 2) for score in similarities]\n",
    "})"
   ]
  },
  {
   "cell_type": "code",
   "execution_count": 8,
   "id": "1cc591b7-32bd-4223-af7a-b373359c34d6",
   "metadata": {},
   "outputs": [],
   "source": [
    "results = results.sort_values(by=\"Match %\", ascending=False)"
   ]
  },
  {
   "cell_type": "code",
   "execution_count": 9,
   "id": "45814b66-82b8-45f0-8ba3-1144a26a485a",
   "metadata": {},
   "outputs": [
    {
     "name": "stdout",
     "output_type": "stream",
     "text": [
      "\n",
      " Resume Matching Results:\n",
      "\n",
      "                                   Resume Name  Match %\n",
      "4                              Resume sonu.pdf    31.71\n",
      "3                     Durga prasad  Resume.pdf    29.80\n",
      "9                        vishakhaResume_ml.pdf    28.62\n",
      "0  anurag-sharma-business-analytics-resume.pdf    26.54\n",
      "1                                   ASNA.K.pdf    25.25\n",
      "6                  ResumeAareen IIT Bombay.pdf    25.04\n",
      "7                           Sachin CV 2.o .pdf    24.73\n",
      "5                          Resume1 (1) (1).pdf    21.39\n",
      "8                        Sonu Kumar Resume.pdf    13.74\n",
      "2                      Bhumi Ghutke resume.pdf     0.00\n"
     ]
    }
   ],
   "source": [
    "print(\"\\n Resume Matching Results:\\n\")\n",
    "print(results)"
   ]
  },
  {
   "cell_type": "code",
   "execution_count": 10,
   "id": "6efb83dd-5c8e-4d3f-b853-03c87a34a908",
   "metadata": {},
   "outputs": [
    {
     "name": "stdout",
     "output_type": "stream",
     "text": [
      "\n",
      " Results saved as 'resume_match_results.csv'\n"
     ]
    }
   ],
   "source": [
    "results.to_csv(\"resume_match_results.csv\", index=False)\n",
    "print(\"\\n Results saved as 'resume_match_results.csv'\")"
   ]
  },
  {
   "cell_type": "code",
   "execution_count": 14,
   "id": "dd1331cc-6438-44b2-9b98-699c8dcb1670",
   "metadata": {},
   "outputs": [
    {
     "data": {
      "text/html": [
       "<div>\n",
       "<style scoped>\n",
       "    .dataframe tbody tr th:only-of-type {\n",
       "        vertical-align: middle;\n",
       "    }\n",
       "\n",
       "    .dataframe tbody tr th {\n",
       "        vertical-align: top;\n",
       "    }\n",
       "\n",
       "    .dataframe thead th {\n",
       "        text-align: right;\n",
       "    }\n",
       "</style>\n",
       "<table border=\"1\" class=\"dataframe\">\n",
       "  <thead>\n",
       "    <tr style=\"text-align: right;\">\n",
       "      <th></th>\n",
       "      <th>Resume Name</th>\n",
       "      <th>Match %</th>\n",
       "    </tr>\n",
       "  </thead>\n",
       "  <tbody>\n",
       "    <tr>\n",
       "      <th>4</th>\n",
       "      <td>Resume sonu.pdf</td>\n",
       "      <td>31.71</td>\n",
       "    </tr>\n",
       "    <tr>\n",
       "      <th>3</th>\n",
       "      <td>Durga prasad  Resume.pdf</td>\n",
       "      <td>29.80</td>\n",
       "    </tr>\n",
       "    <tr>\n",
       "      <th>9</th>\n",
       "      <td>vishakhaResume_ml.pdf</td>\n",
       "      <td>28.62</td>\n",
       "    </tr>\n",
       "    <tr>\n",
       "      <th>0</th>\n",
       "      <td>anurag-sharma-business-analytics-resume.pdf</td>\n",
       "      <td>26.54</td>\n",
       "    </tr>\n",
       "    <tr>\n",
       "      <th>1</th>\n",
       "      <td>ASNA.K.pdf</td>\n",
       "      <td>25.25</td>\n",
       "    </tr>\n",
       "    <tr>\n",
       "      <th>6</th>\n",
       "      <td>ResumeAareen IIT Bombay.pdf</td>\n",
       "      <td>25.04</td>\n",
       "    </tr>\n",
       "    <tr>\n",
       "      <th>7</th>\n",
       "      <td>Sachin CV 2.o .pdf</td>\n",
       "      <td>24.73</td>\n",
       "    </tr>\n",
       "    <tr>\n",
       "      <th>5</th>\n",
       "      <td>Resume1 (1) (1).pdf</td>\n",
       "      <td>21.39</td>\n",
       "    </tr>\n",
       "    <tr>\n",
       "      <th>8</th>\n",
       "      <td>Sonu Kumar Resume.pdf</td>\n",
       "      <td>13.74</td>\n",
       "    </tr>\n",
       "    <tr>\n",
       "      <th>2</th>\n",
       "      <td>Bhumi Ghutke resume.pdf</td>\n",
       "      <td>0.00</td>\n",
       "    </tr>\n",
       "  </tbody>\n",
       "</table>\n",
       "</div>"
      ],
      "text/plain": [
       "                                   Resume Name  Match %\n",
       "4                              Resume sonu.pdf    31.71\n",
       "3                     Durga prasad  Resume.pdf    29.80\n",
       "9                        vishakhaResume_ml.pdf    28.62\n",
       "0  anurag-sharma-business-analytics-resume.pdf    26.54\n",
       "1                                   ASNA.K.pdf    25.25\n",
       "6                  ResumeAareen IIT Bombay.pdf    25.04\n",
       "7                           Sachin CV 2.o .pdf    24.73\n",
       "5                          Resume1 (1) (1).pdf    21.39\n",
       "8                        Sonu Kumar Resume.pdf    13.74\n",
       "2                      Bhumi Ghutke resume.pdf     0.00"
      ]
     },
     "execution_count": 14,
     "metadata": {},
     "output_type": "execute_result"
    }
   ],
   "source": [
    "results"
   ]
  },
  {
   "cell_type": "code",
   "execution_count": null,
   "id": "7df674ed-bc2d-4167-a574-24888bcd8385",
   "metadata": {},
   "outputs": [],
   "source": []
  }
 ],
 "metadata": {
  "kernelspec": {
   "display_name": "Python 3 (ipykernel)",
   "language": "python",
   "name": "python3"
  },
  "language_info": {
   "codemirror_mode": {
    "name": "ipython",
    "version": 3
   },
   "file_extension": ".py",
   "mimetype": "text/x-python",
   "name": "python",
   "nbconvert_exporter": "python",
   "pygments_lexer": "ipython3",
   "version": "3.12.4"
  }
 },
 "nbformat": 4,
 "nbformat_minor": 5
}
